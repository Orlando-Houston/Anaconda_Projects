{
 "cells": [
  {
   "cell_type": "code",
   "execution_count": 2,
   "metadata": {},
   "outputs": [
    {
     "name": "stdout",
     "output_type": "stream",
     "text": [
      "eyowareyou\n",
      "eyowareyo\n",
      "eyowaeyo\n",
      "eyoweyo\n",
      "eoweo\n"
     ]
    }
   ],
   "source": [
    "\n",
    "string_1 = 'heyhowareyou'\n",
    "string_2 = 'hurray'\n",
    "\n",
    "for indx in string_2:\n",
    "    if indx in string_1:\n",
    "        string_1 =string_1. replace(indx ,\"\")\n",
    "        \n",
    "        print(string_1)"
   ]
  },
  {
   "cell_type": "code",
   "execution_count": 12,
   "metadata": {},
   "outputs": [],
   "source": [
    "string_1 ='heyhowareyou'\n",
    "string_2 ='hurray'\n",
    "\n",
    "\n",
    "def  remove_string(string_1 ,string_2  ):\n",
    "    for indx in string_2:\n",
    "        if indx in string_1:\n",
    "              string_1 = string_1. replace(indx ,\"\")\n",
    "    return string_1\n",
    "           \n",
    "    print(remove_string)\n",
    "   "
   ]
  },
  {
   "cell_type": "code",
   "execution_count": 13,
   "metadata": {},
   "outputs": [
    {
     "data": {
      "text/plain": [
       "<function __main__.remove_string(string_1='heyhowareyou', string_2='hurray')>"
      ]
     },
     "execution_count": 13,
     "metadata": {},
     "output_type": "execute_result"
    }
   ],
   "source": [
    "remove_string"
   ]
  },
  {
   "cell_type": "code",
   "execution_count": 14,
   "metadata": {},
   "outputs": [
    {
     "name": "stdout",
     "output_type": "stream",
     "text": [
      "heyhowareyou\n"
     ]
    }
   ],
   "source": [
    "print(string_1)"
   ]
  },
  {
   "cell_type": "code",
   "execution_count": null,
   "metadata": {},
   "outputs": [],
   "source": [
    "# with list comprehension\n",
    "st1 = \"'heyhowareyou'\"\n",
    "st2 = \"hurray\"\n",
    "st3 = [i for i in st1 if i not in st2]\n",
    "print (''.join(st3))"
   ]
  },
  {
   "cell_type": "code",
   "execution_count": 18,
   "metadata": {},
   "outputs": [
    {
     "name": "stdout",
     "output_type": "stream",
     "text": [
      "'eoweo'\n"
     ]
    }
   ],
   "source": [
    "def  remove_string(str1 ,str2  ):\n",
    "    st1 = \"'heyhowareyou'\"\n",
    "    st2 = \"hurray\"\n",
    "    st3 = [i for i in st1 if i not in st2]\n",
    "print (''.join(st3))\n",
    "    "
   ]
  },
  {
   "cell_type": "code",
   "execution_count": null,
   "metadata": {},
   "outputs": [],
   "source": []
  },
  {
   "cell_type": "code",
   "execution_count": null,
   "metadata": {},
   "outputs": [],
   "source": []
  },
  {
   "cell_type": "code",
   "execution_count": null,
   "metadata": {},
   "outputs": [],
   "source": []
  },
  {
   "cell_type": "code",
   "execution_count": null,
   "metadata": {},
   "outputs": [],
   "source": [
    "myList=[]\n",
    "for i in range(3):\n",
    "    item=input(\"enter your hobby:\")\n",
    "    myList.append(item)\n",
    "print(\"these are my hobbies:\",myList)"
   ]
  },
  {
   "cell_type": "code",
   "execution_count": null,
   "metadata": {},
   "outputs": [],
   "source": [
    "def remove(s1, s2):\n",
    "    \n",
    "  newString = []\n",
    "  if len(s2) > 2:\n",
    "    return \"The second argument cannot exceed two characters\"\n",
    "  for c in s1:\n",
    "    if c not in s2:\n",
    "      newString.append(c)\n",
    "  return \"\".join(newString)\n",
    "\n",
    "print remove(\"hello this is a test\", \"l\")"
   ]
  },
  {
   "cell_type": "code",
   "execution_count": 17,
   "metadata": {},
   "outputs": [
    {
     "name": "stdout",
     "output_type": "stream",
     "text": [
      "'eoweo'\n"
     ]
    }
   ],
   "source": [
    "# with list comprehension\n",
    "st1 = \"'heyhowareyou'\"\n",
    "st2 = \"hurray\"\n",
    "st3 = [i for i in st1 if i not in st2]\n",
    "print (''.join(st3))"
   ]
  },
  {
   "cell_type": "code",
   "execution_count": null,
   "metadata": {},
   "outputs": [],
   "source": []
  }
 ],
 "metadata": {
  "kernelspec": {
   "display_name": "Python 3",
   "language": "python",
   "name": "python3"
  },
  "language_info": {
   "codemirror_mode": {
    "name": "ipython",
    "version": 3
   },
   "file_extension": ".py",
   "mimetype": "text/x-python",
   "name": "python",
   "nbconvert_exporter": "python",
   "pygments_lexer": "ipython3",
   "version": "3.8.5"
  }
 },
 "nbformat": 4,
 "nbformat_minor": 4
}
