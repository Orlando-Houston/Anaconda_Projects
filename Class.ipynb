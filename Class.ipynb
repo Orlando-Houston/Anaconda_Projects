{
 "cells": [
  {
   "cell_type": "markdown",
   "metadata": {},
   "source": [
    "## Class MustafaVahit"
   ]
  },
  {
   "cell_type": "code",
   "execution_count": 1,
   "metadata": {},
   "outputs": [
    {
     "name": "stdout",
     "output_type": "stream",
     "text": [
      "Bu bir siniftir\n"
     ]
    }
   ],
   "source": [
    "class DataScientist():\n",
    "    print(\"Bu bir siniftir\")"
   ]
  },
  {
   "cell_type": "code",
   "execution_count": 4,
   "metadata": {},
   "outputs": [],
   "source": [
    "# Sinif ozellikleri (class attributes)\n",
    "class DataScientist():\n",
    "    bolum =\"\"\n",
    "    sql ='evet'\n",
    "    deneyim_yili =0\n",
    "    bildigi_diller =[]\n",
    "    "
   ]
  },
  {
   "cell_type": "code",
   "execution_count": 5,
   "metadata": {},
   "outputs": [
    {
     "data": {
      "text/plain": [
       "[]"
      ]
     },
     "execution_count": 5,
     "metadata": {},
     "output_type": "execute_result"
    }
   ],
   "source": [
    "# Siniflarin ozelliklerine erismek\n",
    "\n",
    "DataScientist.bildigi_diller"
   ]
  },
  {
   "cell_type": "code",
   "execution_count": 6,
   "metadata": {},
   "outputs": [
    {
     "data": {
      "text/plain": [
       "'evet'"
      ]
     },
     "execution_count": 6,
     "metadata": {},
     "output_type": "execute_result"
    }
   ],
   "source": [
    "DataScientist.sql"
   ]
  },
  {
   "cell_type": "code",
   "execution_count": 7,
   "metadata": {},
   "outputs": [
    {
     "data": {
      "text/plain": [
       "0"
      ]
     },
     "execution_count": 7,
     "metadata": {},
     "output_type": "execute_result"
    }
   ],
   "source": [
    "DataScientist.deneyim_yili"
   ]
  },
  {
   "cell_type": "code",
   "execution_count": null,
   "metadata": {},
   "outputs": [],
   "source": []
  },
  {
   "cell_type": "code",
   "execution_count": 9,
   "metadata": {},
   "outputs": [
    {
     "data": {
      "text/plain": [
       "'Hayir'"
      ]
     },
     "execution_count": 9,
     "metadata": {},
     "output_type": "execute_result"
    }
   ],
   "source": [
    "# Siniflarin ozelliklerini degistirmek\n",
    "DataScientist.sql =\"Hayir\"\n",
    "DataScientist.sql"
   ]
  },
  {
   "cell_type": "code",
   "execution_count": 13,
   "metadata": {},
   "outputs": [],
   "source": [
    "altun = DataScientist()\n",
    "altun.sql = \"Evet\"\n",
    "altun.deneyim_yili\n",
    "altun.bildigi_diller.append(\"Python\")\n",
    "altun.bildigi_diller.append(\"Java\")"
   ]
  },
  {
   "cell_type": "code",
   "execution_count": null,
   "metadata": {},
   "outputs": [],
   "source": [
    "altun."
   ]
  },
  {
   "cell_type": "code",
   "execution_count": null,
   "metadata": {},
   "outputs": [],
   "source": []
  },
  {
   "cell_type": "code",
   "execution_count": null,
   "metadata": {},
   "outputs": [],
   "source": []
  },
  {
   "cell_type": "code",
   "execution_count": null,
   "metadata": {},
   "outputs": [],
   "source": []
  },
  {
   "cell_type": "markdown",
   "metadata": {},
   "source": [
    "## DATAI TEAM"
   ]
  },
  {
   "cell_type": "code",
   "execution_count": 2,
   "metadata": {},
   "outputs": [
    {
     "name": "stdout",
     "output_type": "stream",
     "text": [
      "ilk maas:  100\n",
      "yeni maas:  280.0\n",
      "600\n",
      "ayse yelda\n"
     ]
    }
   ],
   "source": [
    "class Calisan:\n",
    "    \n",
    "    zam_orani = 1.8\n",
    "    counter = 0\n",
    "    def __init__(self,isim,soyisim,maas): # constructor\n",
    "        self.isim = isim\n",
    "        self.soyisim = soyisim\n",
    "        self.maas = maas\n",
    "        self.email = isim+soyisim+\"@asd.com\"\n",
    "        \n",
    "        Calisan.counter = Calisan.counter + 1\n",
    "    \n",
    "    def giveNameSurname(self):\n",
    "        return self.isim +\" \" +self.soyisim\n",
    "        \n",
    "    def zam_yap(self):\n",
    "        self.maas = self.maas + self.maas*self.zam_orani\n",
    "        \n",
    "#isci1 = Calisan(\"ali\", \"veli\",100) \n",
    "#print(isci1.maas)\n",
    "#print(isci1.giveNameSurname())\n",
    "\n",
    "\n",
    "# class variable\n",
    "calisan1 = Calisan(\"ali\", \"veli\",100) \n",
    "print(\"ilk maas: \",calisan1.maas)\n",
    "calisan1.zam_yap()\n",
    "print(\"yeni maas: \",calisan1.maas)\n",
    "\n",
    "calisan2 = Calisan(\"ayse\", \"hatice\",200) \n",
    "calisan3 = Calisan(\"ayse\", \"yelda\",600) \n",
    "calisan4 = Calisan(\"eren\", \"hilal\",500) \n",
    "\n",
    "\n",
    "#  class example\n",
    "liste  = [calisan1,calisan2,calisan3,calisan4]\n",
    "\n",
    "\n",
    "maxi_maas = -1\n",
    "index = -1\n",
    "for each in liste:\n",
    "    if(each.maas>maxi_maas):\n",
    "        maxi_maas = each.maas\n",
    "        index = each\n",
    "        \n",
    "print(maxi_maas)\n",
    "print(index.giveNameSurname())\n",
    "\n"
   ]
  },
  {
   "cell_type": "code",
   "execution_count": null,
   "metadata": {},
   "outputs": [],
   "source": []
  }
 ],
 "metadata": {
  "kernelspec": {
   "display_name": "Python 3",
   "language": "python",
   "name": "python3"
  },
  "language_info": {
   "codemirror_mode": {
    "name": "ipython",
    "version": 3
   },
   "file_extension": ".py",
   "mimetype": "text/x-python",
   "name": "python",
   "nbconvert_exporter": "python",
   "pygments_lexer": "ipython3",
   "version": "3.8.5"
  }
 },
 "nbformat": 4,
 "nbformat_minor": 4
}
