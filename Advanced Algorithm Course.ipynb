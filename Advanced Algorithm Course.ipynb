{
 "cells": [
  {
   "cell_type": "code",
   "execution_count": null,
   "metadata": {},
   "outputs": [],
   "source": [
    "## GCD"
   ]
  },
  {
   "cell_type": "code",
   "execution_count": null,
   "metadata": {},
   "outputs": [],
   "source": [
    "def hcfnaive(a,b):\n",
    "    if(b==0):\n",
    "        return a\n",
    "    else:\n",
    "        return hcfnaive(b,a%b)\n",
    "  \n",
    "a = 60\n",
    "b= 48\n",
    "  \n",
    "# prints 12\n",
    "print (\"The gcd of 60 and 48 is : \",end=\"\")\n",
    "print (hcfnaive(60,48))"
   ]
  },
  {
   "cell_type": "code",
   "execution_count": null,
   "metadata": {},
   "outputs": [],
   "source": [
    "# Python code to demonstrate naive\n",
    "# method to compute gcd ( Loops )\n",
    "  \n",
    "  \n",
    "def computeGCD(x, y):\n",
    "  \n",
    "    if x > y:\n",
    "        small = y\n",
    "    else:\n",
    "        small = x\n",
    "    for i in range(1, small+1):\n",
    "        if((x % i == 0) and (y % i == 0)):\n",
    "            gcd = i\n",
    "              \n",
    "    return gcd\n",
    "  \n",
    "a = 60\n",
    "b= 48\n",
    "  \n",
    "# prints 12\n",
    "print (\"The gcd of 60 and 48 is : \",end=\"\")\n",
    "print (computeGCD(60,48))"
   ]
  },
  {
   "cell_type": "code",
   "execution_count": null,
   "metadata": {},
   "outputs": [],
   "source": [
    "# Python code to demonstrate naive\n",
    "# method to compute gcd ( Euclidean algo )\n",
    "  \n",
    "  \n",
    "def computeGCD(x, y):\n",
    "  \n",
    "   while(y):\n",
    "       x, y = y, x % y\n",
    "  \n",
    "   return x\n",
    "  \n",
    "a = 60\n",
    "b= 48\n",
    "  \n",
    "# prints 12\n",
    "print (\"The gcd of 60 and 48 is : \",end=\"\")\n",
    "print (computeGCD(60,48))"
   ]
  },
  {
   "cell_type": "code",
   "execution_count": null,
   "metadata": {},
   "outputs": [],
   "source": [
    "# Using math.gcd() function of Python\n",
    "# Python code to demonstrate gcd()\n",
    "# method to compute gcd\n",
    "  \n",
    "import math\n",
    "  \n",
    "# prints 12\n",
    "print (\"The gcd of 60 and 48 is : \",end=\"\")\n",
    "print (math.gcd(60,48))\n"
   ]
  },
  {
   "cell_type": "code",
   "execution_count": null,
   "metadata": {},
   "outputs": [],
   "source": [
    "# Both numbers are 0, gcd is 0\n",
    "# If only either number is Not a number, Type Error is raised."
   ]
  },
  {
   "cell_type": "code",
   "execution_count": null,
   "metadata": {},
   "outputs": [],
   "source": [
    "import math\n",
    "  \n",
    "# prints 0\n",
    "print (\"The gcd of 0 and 0 is : \",end=\"\")\n",
    "print (math.gcd(0,0))\n",
    "  \n",
    "# Produces error\n",
    "print (\"The gcd of a and 13 is : \",end=\"\")\n",
    "print (math.gcd('a',13))"
   ]
  },
  {
   "cell_type": "code",
   "execution_count": null,
   "metadata": {},
   "outputs": [],
   "source": []
  },
  {
   "cell_type": "code",
   "execution_count": null,
   "metadata": {},
   "outputs": [],
   "source": [
    "# Python code to demonstrate the working of gcd()\n",
    "# importing \"math\" for mathematical operations\n",
    "import math\n",
    "  \n",
    "# prints 12\n",
    "print(\"The gcd of 60 and 48 is : \", end=\"\")\n",
    "print(math.gcd(60, 48))"
   ]
  },
  {
   "cell_type": "code",
   "execution_count": null,
   "metadata": {},
   "outputs": [],
   "source": []
  },
  {
   "cell_type": "code",
   "execution_count": null,
   "metadata": {},
   "outputs": [],
   "source": [
    "# Python code to demonstrate naive\n",
    "# method to compute gcd ( recursion )\n",
    "  \n",
    "  \n",
    "def hcf(a, b):\n",
    "    if(b == 0):\n",
    "        return a\n",
    "    else:\n",
    "        return hcf(b, a % b)\n",
    "  \n",
    "a = 60\n",
    "b = 48\n",
    "  \n",
    "# prints 12\n",
    "print(\"The gcd of 60 and 48 is : \", end=\"\")\n",
    "print(hcf(60, 48))"
   ]
  },
  {
   "cell_type": "markdown",
   "metadata": {},
   "source": [
    "Using Euclidean Algorithm :\n",
    "\n",
    "The Euclid’s algorithm (or Euclidean Algorithm) is a method for efficiently finding the greatest common divisor (GCD) of two numbers. The GCD of two integers X and Y is the largest number that divides both of X and Y (without leaving a remainder).\n",
    "\n",
    "Pseudo Code of the Algorithm-\n",
    "\n",
    "Let  a, b  be the two numbers\n",
    "a mod b = R\n",
    "Let  a = b  and  b = R\n",
    "Repeat Steps 2 and 3 until  a mod b  is greater than 0\n",
    "GCD = b\n",
    " Finish\n"
   ]
  },
  {
   "cell_type": "code",
   "execution_count": null,
   "metadata": {},
   "outputs": [],
   "source": [
    "# Recursive function to return gcd of a and b\n",
    "def gcd(a, b):\n",
    "  \n",
    "    # Everything divides 0\n",
    "    if (a == 0):\n",
    "        return b\n",
    "    if (b == 0):\n",
    "        return a\n",
    "  \n",
    "    # base case\n",
    "    if (a == b):\n",
    "        return a\n",
    "  \n",
    "    # a is greater\n",
    "    if (a > b):\n",
    "        return gcd(a-b, b)\n",
    "    return gcd(a, b-a)\n",
    "  \n",
    "# Driver program to test above function\n",
    "a = 98\n",
    "b = 56\n",
    "if(gcd(a, b)):\n",
    "    print('GCD of', a, 'and', b, 'is', gcd(a, b))\n",
    "else:\n",
    "    print('not found')"
   ]
  },
  {
   "cell_type": "code",
   "execution_count": null,
   "metadata": {},
   "outputs": [],
   "source": []
  },
  {
   "cell_type": "code",
   "execution_count": null,
   "metadata": {},
   "outputs": [],
   "source": []
  },
  {
   "cell_type": "code",
   "execution_count": null,
   "metadata": {},
   "outputs": [],
   "source": [
    "## Factorial"
   ]
  },
  {
   "cell_type": "code",
   "execution_count": null,
   "metadata": {},
   "outputs": [],
   "source": [
    "# Python code to demonstrate naive method\n",
    "# to compute factorial\n",
    "n = 23\n",
    "fact = 1\n",
    "  \n",
    "for i in range(1,n+1):\n",
    "    fact = fact * i\n",
    "      \n",
    "print (\"The factorial of 23 is : \",end=\"\")\n",
    "print (fact)"
   ]
  },
  {
   "cell_type": "code",
   "execution_count": null,
   "metadata": {},
   "outputs": [],
   "source": [
    "# Python code to demonstrate math.factorial()\n",
    "import math\n",
    "  \n",
    "print (\"The factorial of 23 is : \", end=\"\")\n",
    "print (math.factorial(23))"
   ]
  },
  {
   "cell_type": "code",
   "execution_count": null,
   "metadata": {},
   "outputs": [],
   "source": [
    "# Python code to demonstrate math.factorial()\n",
    "# Exceptions ( negative number )\n",
    "  \n",
    "import math\n",
    "  \n",
    "print (\"The factorial of -5 is : \",end=\"\")\n",
    "  \n",
    "# raises exception\n",
    "print (math.factorial(-5))"
   ]
  },
  {
   "cell_type": "code",
   "execution_count": null,
   "metadata": {},
   "outputs": [],
   "source": []
  },
  {
   "cell_type": "code",
   "execution_count": null,
   "metadata": {},
   "outputs": [],
   "source": [
    "# Python code to demonstrate math.factorial()\n",
    "# Exceptions ( Non-Integral number )\n",
    "  \n",
    "import math\n",
    "  \n",
    "print (\"The factorial of 5.6 is : \",end=\"\")\n",
    "  \n",
    "# raises exception\n",
    "print (math.factorial(5.6))"
   ]
  },
  {
   "cell_type": "code",
   "execution_count": null,
   "metadata": {},
   "outputs": [],
   "source": [
    "## Prime numbers"
   ]
  },
  {
   "cell_type": "code",
   "execution_count": null,
   "metadata": {},
   "outputs": [],
   "source": [
    "# Python Program to find prime numbers in a range\n",
    "import time\n",
    "def is_prime(n):\n",
    "    if n <= 1:\n",
    "        return False\n",
    "    for i in range(2,n):\n",
    "        if n % i == 0:\n",
    "            return False\n",
    "    return True\n",
    " \n",
    "# Driver function\n",
    "t0 = time.time()\n",
    "c = 0 #for counting\n",
    " \n",
    "for n in range(1,100000):\n",
    "    x = is_prime(n)\n",
    "    c += x\n",
    "print(\"Total prime numbers in range :\", c)\n",
    " \n",
    "t1 = time.time()\n",
    "print(\"Time required :\", t1 - t0)"
   ]
  },
  {
   "cell_type": "code",
   "execution_count": null,
   "metadata": {},
   "outputs": [],
   "source": []
  },
  {
   "cell_type": "code",
   "execution_count": null,
   "metadata": {},
   "outputs": [],
   "source": [
    "# Python Program to find prime numbers in a range\n",
    "import math\n",
    "import time\n",
    "def is_prime(n):\n",
    "    if n <= 1:\n",
    "        return False\n",
    " \n",
    "    max_div = math.floor(math.sqrt(n))\n",
    "    for i in range(2, 1 + max_div):\n",
    "        if n % i == 0:\n",
    "            return False\n",
    "    return True\n",
    " \n",
    "# Driver function\n",
    "t0 = time.time()\n",
    "c = 0 #for counting\n",
    " \n",
    "for n in range(1,100000):\n",
    "    x = is_prime(n)\n",
    "    c += x\n",
    "print(\"Total prime numbers in range :\", c)\n",
    " \n",
    "t1 = time.time()\n",
    "print(\"Time required :\", t1 - t0)"
   ]
  },
  {
   "cell_type": "code",
   "execution_count": null,
   "metadata": {},
   "outputs": [],
   "source": []
  },
  {
   "cell_type": "code",
   "execution_count": null,
   "metadata": {},
   "outputs": [],
   "source": [
    "# Python Program to find prime numbers in a range\n",
    "import math\n",
    "import time\n",
    "def is_prime(n):\n",
    "    if n <= 1:\n",
    "        return False\n",
    "    if n == 2:\n",
    "        return True\n",
    "    if n > 2 and n % 2 == 0:\n",
    "        return False\n",
    " \n",
    "    max_div = math.floor(math.sqrt(n))\n",
    "    for i in range(3, 1 + max_div, 2):\n",
    "        if n % i == 0:\n",
    "            return False\n",
    "    return True\n",
    " \n",
    "# Driver function\n",
    "t0 = time.time()\n",
    "c = 0 #for counting\n",
    " \n",
    "for n in range(1,100000):\n",
    "    x = is_prime(n)\n",
    "    c += x\n",
    "print(\"Total prime numbers in range :\", c)\n",
    " \n",
    "t1 = time.time()\n",
    "print(\"Time required :\", t1 - t0)"
   ]
  },
  {
   "cell_type": "code",
   "execution_count": null,
   "metadata": {},
   "outputs": [],
   "source": []
  },
  {
   "cell_type": "code",
   "execution_count": null,
   "metadata": {},
   "outputs": [],
   "source": [
    "# Python Program to find prime numbers in a range\n",
    "import time\n",
    "def SieveOfEratosthenes(n):\n",
    "      \n",
    "    # Create a boolean array \"prime[0..n]\" and\n",
    "    # initialize all entries it as true. A value\n",
    "    # in prime[i] will finally be false if i is\n",
    "    # Not a prime, else true.\n",
    "    prime = [True for i in range(n+1)]\n",
    "     \n",
    "    p = 2\n",
    "    while(p * p <= n):\n",
    "          \n",
    "        # If prime[p] is not changed, then it is\n",
    "       # a prime\n",
    "        if (prime[p] == True):\n",
    "              \n",
    "            # Update all multiples of p\n",
    "            for i in range(p * p, n + 1, p):\n",
    "                prime[i] = False\n",
    "        p += 1\n",
    "    c = 0\n",
    " \n",
    "    # Print all prime numbers\n",
    "    for p in range(2, n):\n",
    "        if prime[p]:\n",
    "            c += 1\n",
    "    return c\n",
    " \n",
    "# Driver function\n",
    "t0 = time.time()\n",
    "c = SieveOfEratosthenes(100000)\n",
    "print(\"Total prime numbers in range:\", c)\n",
    " \n",
    "t1 = time.time()\n",
    "print(\"Time required:\", t1 - t0)"
   ]
  },
  {
   "cell_type": "code",
   "execution_count": null,
   "metadata": {},
   "outputs": [],
   "source": []
  },
  {
   "cell_type": "code",
   "execution_count": null,
   "metadata": {},
   "outputs": [],
   "source": [
    "# Python program to check if\n",
    "# given number is prime or not\n",
    " \n",
    "num = 11\n",
    " \n",
    "# If given number is greater than 1\n",
    "if num > 1:\n",
    " \n",
    "    # Iterate from 2 to n / 2\n",
    "    for i in range(2, int(num/2)+1):\n",
    " \n",
    "        # If num is divisible by any number between\n",
    "        # 2 and n / 2, it is not prime\n",
    "        if (num % i) == 0:\n",
    "            print(num, \"is not a prime number\")\n",
    "            break\n",
    "    else:\n",
    "        print(num, \"is a prime number\")\n",
    " \n",
    "else:\n",
    "    print(num, \"is not a prime number\")"
   ]
  },
  {
   "cell_type": "code",
   "execution_count": null,
   "metadata": {},
   "outputs": [],
   "source": []
  },
  {
   "cell_type": "code",
   "execution_count": null,
   "metadata": {},
   "outputs": [],
   "source": [
    "from math import sqrt\n",
    "# n is the number to be check whether it is prime or not\n",
    "n = 1\n",
    " \n",
    "# no lets check from 2 to sqrt(n)\n",
    "# if we found any facto then we can print as not a prime number\n",
    " \n",
    "# this flag maintains status whether the n is prime or not\n",
    "prime_flag = 0\n",
    " \n",
    "if(n > 1):\n",
    "    for i in range(2, int(sqrt(n)) + 1):\n",
    "        if (n % i == 0):\n",
    "            prime_flag = 1\n",
    "            break\n",
    "    if (prime_flag == 0):\n",
    "        print(\"true\")\n",
    "    else:\n",
    "        print(\"false\")\n",
    "else:\n",
    "    print(\"false\")"
   ]
  },
  {
   "cell_type": "code",
   "execution_count": null,
   "metadata": {},
   "outputs": [],
   "source": []
  },
  {
   "cell_type": "code",
   "execution_count": null,
   "metadata": {},
   "outputs": [],
   "source": [
    "num = 13\n",
    "if num > 1:\n",
    "for i in range(2, num//2):\n",
    "if (num % i) == 0:\n",
    "print(num, \"is not a prime number\")\n",
    "break\n",
    "else:\n",
    "print(num, \"is a prime number\")\n",
    "else:\n",
    "print(num, \"is not a prime number\""
   ]
  },
  {
   "cell_type": "code",
   "execution_count": null,
   "metadata": {},
   "outputs": [],
   "source": []
  },
  {
   "cell_type": "code",
   "execution_count": null,
   "metadata": {},
   "outputs": [],
   "source": [
    "# taking input from user\n",
    "number = int(input(\"Enter any number: \"))\n",
    "\n",
    "# prime number is always greater than 1\n",
    "if number > 1:\n",
    "    for i in range(2, number):\n",
    "        if (number % i) == 0:\n",
    "            print(number, \"is not a prime number\")\n",
    "            break\n",
    "    else:\n",
    "        print(number, \"is a prime number\")\n",
    "\n",
    "# if the entered number is less than or equal to 1\n",
    "# then it is not prime number\n",
    "else:\n",
    "    print(number, \"is not a prime number\")"
   ]
  },
  {
   "cell_type": "code",
   "execution_count": null,
   "metadata": {},
   "outputs": [],
   "source": []
  },
  {
   "cell_type": "code",
   "execution_count": null,
   "metadata": {},
   "outputs": [],
   "source": [
    "# Python program to display all the prime numbers within an interval\n",
    "\n",
    "lower = 900\n",
    "upper = 1000\n",
    "\n",
    "print(\"Prime numbers between\", lower, \"and\", upper, \"are:\")\n",
    "\n",
    "for num in range(lower, upper + 1):\n",
    "   # all prime numbers are greater than 1\n",
    "   if num > 1:\n",
    "       for i in range(2, num):\n",
    "           if (num % i) == 0:\n",
    "               break\n",
    "       else:\n",
    "           print(num)"
   ]
  },
  {
   "cell_type": "code",
   "execution_count": null,
   "metadata": {},
   "outputs": [],
   "source": []
  },
  {
   "cell_type": "code",
   "execution_count": null,
   "metadata": {},
   "outputs": [],
   "source": []
  },
  {
   "cell_type": "code",
   "execution_count": null,
   "metadata": {},
   "outputs": [],
   "source": []
  }
 ],
 "metadata": {
  "kernelspec": {
   "display_name": "Python 3",
   "language": "python",
   "name": "python3"
  },
  "language_info": {
   "codemirror_mode": {
    "name": "ipython",
    "version": 3
   },
   "file_extension": ".py",
   "mimetype": "text/x-python",
   "name": "python",
   "nbconvert_exporter": "python",
   "pygments_lexer": "ipython3",
   "version": "3.8.5"
  }
 },
 "nbformat": 4,
 "nbformat_minor": 4
}
