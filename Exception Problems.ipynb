{
 "cells": [
  {
   "cell_type": "code",
   "execution_count": 3,
   "metadata": {},
   "outputs": [
    {
     "name": "stdout",
     "output_type": "stream",
     "text": [
      "*************\n",
      "Q:Elinizde stringlerin bulunduğu bir liste bulunduğunu düşünün.\n",
      "\n",
      "liste = [\"345\",\"sadas\",\"324a\",\"14\",\"kemal\"]\n",
      "\n",
      "Bu listenin içindeki stringlerden içinde sadece rakam bulunanları ekrana yazdırın.\n",
      "Bunu yaparken try,\n",
      "except bloklarını kullanmayı unutmayın.\n",
      "\n",
      "\n",
      "******************\n",
      "345\n",
      "14\n"
     ]
    }
   ],
   "source": [
    "print(\"\"\"*************\n",
    "Q:Elinizde stringlerin bulunduğu bir liste bulunduğunu düşünün.\n",
    "\n",
    "liste = [\"345\",\"sadas\",\"324a\",\"14\",\"kemal\"]\n",
    "\n",
    "Bu listenin içindeki stringlerden içinde sadece rakam bulunanları ekrana yazdırın.\n",
    "Bunu yaparken try,\n",
    "except bloklarını kullanmayı unutmayın.\n",
    "\n",
    "\n",
    "******************\"\"\")\n",
    "\n",
    "\n",
    "\n",
    "liste = [\"345\",\"sadas\",\"324a\",\"14\",\"kemal\"]\n",
    "\n",
    "for eleman in liste:\n",
    "    \n",
    "    try: \n",
    "        eleman = int(eleman) # Eğer hata ile karşılaşırsak burası hata verecek ve print çalışmayacak.\n",
    "        print(eleman)\n",
    "    except:\n",
    "        pass # pass deyimi bir blokun hiçbir şey yapmadığı anlamına geliyor. Python'ın hata vermemesi için kullanabilirsiniz."
   ]
  },
  {
   "cell_type": "code",
   "execution_count": 4,
   "metadata": {},
   "outputs": [
    {
     "name": "stdout",
     "output_type": "stream",
     "text": [
      "*****************\n",
      "\n",
      "Problem 2\n",
      "Bir sayının çift olup olmadığını sorgulayan bir fonksiyon yazın.\n",
      "Bu fonksiyon, eğer sayı çift ise return ile bu değeri dönsün. Ancak\n",
      "sayı tek sayı ise fonksiyon raise ile ValueError hatası fırlatsın. \n",
      "Daha sonra, içinde çift ve tek sayılar bulunduran bir liste\n",
      "tanımlayın ve liste üzerinde gezinerek ekrana sadece çift sayıları bastırın.\n",
      "**********************\n",
      "34\n",
      "2\n",
      "100\n",
      "1800\n"
     ]
    }
   ],
   "source": [
    "print(\"\"\"*****************\n",
    "\n",
    "Problem 2\n",
    "Bir sayının çift olup olmadığını sorgulayan bir fonksiyon yazın.\n",
    "Bu fonksiyon, eğer sayı çift ise return ile bu değeri dönsün. Ancak\n",
    "sayı tek sayı ise fonksiyon raise ile ValueError hatası fırlatsın. \n",
    "Daha sonra, içinde çift ve tek sayılar bulunduran bir liste\n",
    "tanımlayın ve liste üzerinde gezinerek ekrana sadece çift sayıları bastırın.\n",
    "**********************\"\"\")\n",
    "\n",
    "def çift_mi(sayı):\n",
    "    \n",
    "    if (sayı % 2 == 0):\n",
    "        return sayı\n",
    "    else:\n",
    "        raise ValueError\n",
    "liste = [34,2,1,3,33,100,61,1800]\n",
    "\n",
    "for i in liste:\n",
    "    try:\n",
    "        print(çift_mi(i))\n",
    "    except ValueError:\n",
    "        pass"
   ]
  },
  {
   "cell_type": "code",
   "execution_count": null,
   "metadata": {},
   "outputs": [],
   "source": []
  }
 ],
 "metadata": {
  "kernelspec": {
   "display_name": "Python 3",
   "language": "python",
   "name": "python3"
  },
  "language_info": {
   "codemirror_mode": {
    "name": "ipython",
    "version": 3
   },
   "file_extension": ".py",
   "mimetype": "text/x-python",
   "name": "python",
   "nbconvert_exporter": "python",
   "pygments_lexer": "ipython3",
   "version": "3.8.5"
  }
 },
 "nbformat": 4,
 "nbformat_minor": 4
}
