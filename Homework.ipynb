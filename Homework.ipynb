{
 "cells": [
  {
   "cell_type": "code",
   "execution_count": 1,
   "metadata": {},
   "outputs": [
    {
     "name": "stdout",
     "output_type": "stream",
     "text": [
      "Yes, there is a duplicate. [e.g. 'quiz']\n"
     ]
    }
   ],
   "source": [
    "#O(N^2) complexity :\n",
    "\n",
    "# list to store the data to be looped\n",
    "ls = [\"homework\", \"assignment\", \"quiz\", \"discussion\", \"quiz\", \"program\"]\n",
    "\n",
    "#O(N^2) complexity solution\n",
    "for i in range(len(ls)):\n",
    "    for j in range(i+1,len(ls)):\n",
    "        if( ls[i] == ls[j]):\n",
    "            print(\"Yes, there is a duplicate. [e.g. '{}']\".format(ls[i]))"
   ]
  },
  {
   "cell_type": "code",
   "execution_count": null,
   "metadata": {},
   "outputs": [],
   "source": []
  },
  {
   "cell_type": "code",
   "execution_count": 2,
   "metadata": {},
   "outputs": [
    {
     "name": "stdout",
     "output_type": "stream",
     "text": [
      "Yes, there is a duplicate. [e.g. 'quiz']\n"
     ]
    }
   ],
   "source": [
    "# O(N) complexity :\n",
    "\n",
    "# list to store the data to be looped\n",
    "ls = [\"homework\", \"assignment\", \"quiz\", \"discussion\", \"quiz\", \"program\"]\n",
    "\n",
    "#O(N) complexity solution\n",
    "dict = {}\n",
    "\n",
    "for i in range(len(ls)):\n",
    "    if(ls[i] in dict):\n",
    "        print(\"Yes, there is a duplicate. [e.g. '{}']\".format(ls[i]))\n",
    "    else : \n",
    "        #insert into dictionary if data is not there\n",
    "        dict[ls[i]] = ls[i]"
   ]
  },
  {
   "cell_type": "code",
   "execution_count": null,
   "metadata": {},
   "outputs": [],
   "source": []
  },
  {
   "cell_type": "code",
   "execution_count": null,
   "metadata": {},
   "outputs": [],
   "source": []
  },
  {
   "cell_type": "code",
   "execution_count": null,
   "metadata": {},
   "outputs": [],
   "source": []
  }
 ],
 "metadata": {
  "kernelspec": {
   "display_name": "Python 3",
   "language": "python",
   "name": "python3"
  },
  "language_info": {
   "codemirror_mode": {
    "name": "ipython",
    "version": 3
   },
   "file_extension": ".py",
   "mimetype": "text/x-python",
   "name": "python",
   "nbconvert_exporter": "python",
   "pygments_lexer": "ipython3",
   "version": "3.8.5"
  }
 },
 "nbformat": 4,
 "nbformat_minor": 4
}
